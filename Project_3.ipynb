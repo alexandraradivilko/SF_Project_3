{
 "cells": [
  {
   "cell_type": "markdown",
   "id": "42c133fd",
   "metadata": {},
   "source": [
    "## Цель \n",
    "### Исследовать поведение пользователей, которые зарегистрировались в 2018 году, в обновлённом приложении Quiz Freeze"
   ]
  },
  {
   "cell_type": "markdown",
   "id": "b8b2bc1b",
   "metadata": {},
   "source": [
    "## Ключевые этапы пути пользователя в приложении:\n",
    "\n",
    "1. Регистрация \n",
    "2. Старт обучения  \n",
    "3. Завершение обучения \n",
    "4. Выбор уровня сложности вопросов \n",
    "5. Выбор пакетов вопросов \n",
    "6. Покупка платных пакетов вопросов\n"
   ]
  },
  {
   "cell_type": "markdown",
   "id": "d9fdc1a5",
   "metadata": {},
   "source": [
    "## Гипотезы\n",
    "1. Oбучение влияет на скорость прохождения других этапов игры\n",
    "2. Повторное прохождение обучения положительно влияет на оплату\n",
    "3. Если пользователь сначала выбирает сложность обучения, то он не будет проходить обучение"
   ]
  },
  {
   "cell_type": "markdown",
   "id": "0100092a",
   "metadata": {},
   "source": [
    "## Задачи\n",
    "1. Определить, насколько обучение сокращает время прохождения этапов игры.\n",
    "2. Доказать, что успешное обучение само по себе влияет на оплату и не имеет значения то, каким этапом оно шло.\n",
    "3. Определить, насколько прозрачен процесс взаимодействия с игрой."
   ]
  },
  {
   "cell_type": "markdown",
   "id": "101e62f3",
   "metadata": {},
   "source": [
    "## Кокретные шаги\n",
    "\n",
    "1. Сравнить время прохождения различных этапов для пользователей, которые завершили обучение, и пользователей, не начинавших обучение. Если показатель отличается, выяснить, насколько.\n",
    "2. Проверить, существует ли зависимость между вероятностью оплаты вопросов и количеством обучений, которые начинал или завершал пользователь.\n",
    "3. Выяснить, как часто пользователи начинают обучение после выбора уровня сложности. (Это позволит оценить прозрачность процесса взаимодействия с игрой: если пользователи после выбора уровня сложности обращаются к обучению, значит, работа с приложением непонятна.)"
   ]
  },
  {
   "cell_type": "code",
   "execution_count": 1,
   "id": "2fad7dc9",
   "metadata": {},
   "outputs": [],
   "source": [
    "import pandas as pd\n",
    "import numpy as np\n",
    "import matplotlib.pyplot as plt"
   ]
  },
  {
   "cell_type": "code",
   "execution_count": 2,
   "id": "c3a44987",
   "metadata": {},
   "outputs": [],
   "source": [
    "pur = pd.read_csv(\"/Users/sascha/Downloads/purchase.csv\")"
   ]
  },
  {
   "cell_type": "code",
   "execution_count": 3,
   "id": "7f56abcd",
   "metadata": {},
   "outputs": [],
   "source": [
    "pur['event_datetime'] = pd.to_datetime(pur['event_datetime'])"
   ]
  },
  {
   "cell_type": "code",
   "execution_count": 4,
   "id": "34042ae7",
   "metadata": {},
   "outputs": [],
   "source": [
    "event = pd.read_csv(\"/Users/sascha/Downloads/7_4_Events.csv\")"
   ]
  },
  {
   "cell_type": "code",
   "execution_count": 5,
   "id": "26fa8ae6",
   "metadata": {},
   "outputs": [],
   "source": [
    "event['start_time'] = pd.to_datetime(event['start_time'], errors='coerce')"
   ]
  },
  {
   "cell_type": "markdown",
   "id": "a4083331",
   "metadata": {},
   "source": [
    "#### Оставляем в таблице пользователей, которые зарегистрировались в 2018 году "
   ]
  },
  {
   "cell_type": "code",
   "execution_count": 6,
   "id": "dd11dee8",
   "metadata": {},
   "outputs": [],
   "source": [
    "mask1 = event['start_time'] >= '2018-01-01'\n",
    "mask2 = event['start_time'] < '2019-01-01'\n",
    "mask3 = event['event_type'] == 'registration'\n",
    "user_2018 = event[mask1&mask2&mask3]['user_id'].to_list()\n",
    "event_df = event[event['user_id'].isin(user_2018)]"
   ]
  },
  {
   "cell_type": "code",
   "execution_count": 7,
   "id": "2e1925ee",
   "metadata": {},
   "outputs": [],
   "source": [
    "joined = event_df.merge(pur, on='user_id', how='left') \n",
    "joined.rename(columns = {'id_x':'event_id', 'id_y':'purchase_id'}, inplace = True )"
   ]
  },
  {
   "cell_type": "markdown",
   "id": "004d284c",
   "metadata": {},
   "source": [
    "## Гипотеза 1\n",
    "### Oбучение влияет на скорость прохождения других этапов игры"
   ]
  },
  {
   "cell_type": "markdown",
   "id": "4d5972b3",
   "metadata": {},
   "source": [
    "#### Строим сводную таблицу, где для каждого зарегестрированного игрока в столбцах будет название этапа, а в значениях минимальное время начала этого этапа"
   ]
  },
  {
   "cell_type": "code",
   "execution_count": 8,
   "id": "2796fafa",
   "metadata": {},
   "outputs": [],
   "source": [
    "min_time = joined.pivot_table(\n",
    "values='start_time', index='user_id', columns='event_type', aggfunc='min', fill_value=0\n",
    ").reset_index()"
   ]
  },
  {
   "cell_type": "code",
   "execution_count": 9,
   "id": "49e5dd46",
   "metadata": {},
   "outputs": [],
   "source": [
    "min_time = min_time.merge(pur, on = 'user_id', how='left')\n",
    "min_time.rename(columns = {'id':'purchase_id', 'event_datetime':'purchase_dt'}, inplace = True )"
   ]
  },
  {
   "cell_type": "code",
   "execution_count": 10,
   "id": "483bf6f1",
   "metadata": {},
   "outputs": [],
   "source": [
    "# меняем формат на датувремя:\n",
    "min_time['tutorial_start'] = pd.to_datetime(min_time['tutorial_start'], errors='coerce')\n",
    "min_time['tutorial_finish'] = pd.to_datetime(min_time['tutorial_finish'], errors='coerce')\n",
    "min_time['level_choice'] = pd.to_datetime(min_time['level_choice'], errors='coerce')\n",
    "min_time['pack_choice'] = pd.to_datetime(min_time['pack_choice'], errors='coerce')\n",
    "min_time['purchase_dt'] = pd.to_datetime(min_time['purchase_dt'],errors='coerce') "
   ]
  },
  {
   "cell_type": "code",
   "execution_count": 11,
   "id": "7eefdadf",
   "metadata": {},
   "outputs": [],
   "source": [
    "# вычисляем время прохождения этапа выбора уровня сложности\n",
    "min_time['timedelta_level_choice'] = min_time['pack_choice'] - min_time['level_choice']\n",
    "# вычисляем время прохождения этапа выбора пакета вопросов\n",
    "min_time['timedelta_pack_choice'] = min_time['purchase_dt'] - min_time['pack_choice']"
   ]
  },
  {
   "cell_type": "code",
   "execution_count": 12,
   "id": "7c22a514",
   "metadata": {},
   "outputs": [],
   "source": [
    "# менеяем NaT на 0\n",
    "min_time['tutorial_start'] = pd.to_datetime(min_time['tutorial_start'], errors='coerce').fillna(0)\n",
    "min_time['tutorial_finish'] = pd.to_datetime(min_time['tutorial_finish'], errors='coerce').fillna(0)\n",
    "min_time['level_choice'] = pd.to_datetime(min_time['level_choice'], errors='coerce').fillna(0)\n",
    "min_time['pack_choice'] = pd.to_datetime(min_time['pack_choice'], errors='coerce').fillna(0)\n",
    "min_time['purchase_id'] = min_time['purchase_id'].fillna(0)\n",
    "min_time['purchase_dt'] = min_time['purchase_dt'].fillna(0)\n",
    "min_time['amount'] = min_time['amount'].fillna(0)"
   ]
  },
  {
   "cell_type": "code",
   "execution_count": 13,
   "id": "1a16551d",
   "metadata": {},
   "outputs": [
    {
     "name": "stdout",
     "output_type": "stream",
     "text": [
      "<class 'pandas.core.frame.DataFrame'>\n",
      "Int64Index: 19926 entries, 0 to 19925\n",
      "Data columns (total 11 columns):\n",
      " #   Column                  Non-Null Count  Dtype          \n",
      "---  ------                  --------------  -----          \n",
      " 0   user_id                 19926 non-null  int64          \n",
      " 1   level_choice            19926 non-null  object         \n",
      " 2   pack_choice             19926 non-null  object         \n",
      " 3   registration            19926 non-null  datetime64[ns] \n",
      " 4   tutorial_finish         19926 non-null  object         \n",
      " 5   tutorial_start          19926 non-null  object         \n",
      " 6   purchase_id             19926 non-null  float64        \n",
      " 7   purchase_dt             19926 non-null  object         \n",
      " 8   amount                  19926 non-null  float64        \n",
      " 9   timedelta_level_choice  5737 non-null   timedelta64[ns]\n",
      " 10  timedelta_pack_choice   1600 non-null   timedelta64[ns]\n",
      "dtypes: datetime64[ns](1), float64(2), int64(1), object(5), timedelta64[ns](2)\n",
      "memory usage: 1.8+ MB\n"
     ]
    }
   ],
   "source": [
    "min_time.info()"
   ]
  },
  {
   "cell_type": "code",
   "execution_count": 14,
   "id": "974159b2",
   "metadata": {},
   "outputs": [],
   "source": [
    "min_time = min_time[['user_id','registration', 'tutorial_start', 'tutorial_finish', 'level_choice', 'pack_choice', 'purchase_id', 'purchase_dt','amount','timedelta_level_choice', 'timedelta_pack_choice']]"
   ]
  },
  {
   "cell_type": "markdown",
   "id": "f2d7c5de",
   "metadata": {},
   "source": [
    "#### Проверяем гипотезу о том, что обучение влияет на скорость прохождения других этапов игры"
   ]
  },
  {
   "cell_type": "code",
   "execution_count": 15,
   "id": "6589634d",
   "metadata": {},
   "outputs": [],
   "source": [
    "# формируем доп столбцы для следующих признаков: 1. завершил ли пользовательно обучение. \n",
    "# 2. начал ли пользователь обучение\n",
    "# 3. совершил ли пользователь покупку\n",
    "min_time['tutorial_completed'] = np.where(min_time['tutorial_finish'] == 0, 'no', 'yes')\n",
    "min_time['tutorial_started'] = np.where(min_time['tutorial_start'] == 0, 'no', 'yes')\n",
    "min_time['purchase'] = np.where(min_time['purchase_id']==0, 0, 1)"
   ]
  },
  {
   "cell_type": "markdown",
   "id": "3dbd52e0",
   "metadata": {},
   "source": [
    "#### Определяю 3 группы: \n",
    "1. пользователи, которые завершили обучение\n",
    "2. пользователи, не начавшие обучение, но не завершившие его\n",
    "3. пользователи, не начавшие обучение"
   ]
  },
  {
   "cell_type": "code",
   "execution_count": 16,
   "id": "43f1a567",
   "metadata": {},
   "outputs": [],
   "source": [
    "group_1 = min_time[(min_time['tutorial_completed']=='yes')]\n",
    "group_2 = min_time[(min_time['tutorial_started']=='yes') & (min_time['tutorial_completed']=='no')]\n",
    "group_3 = min_time[(min_time['tutorial_started']=='no')]"
   ]
  },
  {
   "cell_type": "code",
   "execution_count": 17,
   "id": "252f7818",
   "metadata": {},
   "outputs": [
    {
     "data": {
      "text/html": [
       "<div>\n",
       "<style scoped>\n",
       "    .dataframe tbody tr th:only-of-type {\n",
       "        vertical-align: middle;\n",
       "    }\n",
       "\n",
       "    .dataframe tbody tr th {\n",
       "        vertical-align: top;\n",
       "    }\n",
       "\n",
       "    .dataframe thead th {\n",
       "        text-align: right;\n",
       "    }\n",
       "</style>\n",
       "<table border=\"1\" class=\"dataframe\">\n",
       "  <thead>\n",
       "    <tr style=\"text-align: right;\">\n",
       "      <th></th>\n",
       "      <th>user_id</th>\n",
       "      <th>registration</th>\n",
       "      <th>tutorial_start</th>\n",
       "      <th>tutorial_finish</th>\n",
       "      <th>level_choice</th>\n",
       "      <th>pack_choice</th>\n",
       "      <th>purchase_id</th>\n",
       "      <th>purchase_dt</th>\n",
       "      <th>amount</th>\n",
       "      <th>timedelta_level_choice</th>\n",
       "      <th>timedelta_pack_choice</th>\n",
       "      <th>tutorial_completed</th>\n",
       "      <th>tutorial_started</th>\n",
       "      <th>purchase</th>\n",
       "    </tr>\n",
       "  </thead>\n",
       "  <tbody>\n",
       "    <tr>\n",
       "      <th>8</th>\n",
       "      <td>27840</td>\n",
       "      <td>2018-01-01 20:53:21</td>\n",
       "      <td>2018-01-02 02:07:07</td>\n",
       "      <td>0</td>\n",
       "      <td>2018-01-02 05:18:42</td>\n",
       "      <td>0</td>\n",
       "      <td>0.0</td>\n",
       "      <td>0</td>\n",
       "      <td>0.0</td>\n",
       "      <td>NaT</td>\n",
       "      <td>NaT</td>\n",
       "      <td>no</td>\n",
       "      <td>yes</td>\n",
       "      <td>0</td>\n",
       "    </tr>\n",
       "    <tr>\n",
       "      <th>24</th>\n",
       "      <td>27856</td>\n",
       "      <td>2018-01-02 21:18:21</td>\n",
       "      <td>2018-01-03 04:36:55</td>\n",
       "      <td>0</td>\n",
       "      <td>2018-01-03 08:31:35</td>\n",
       "      <td>2018-01-03 08:33:35</td>\n",
       "      <td>0.0</td>\n",
       "      <td>0</td>\n",
       "      <td>0.0</td>\n",
       "      <td>0 days 00:02:00</td>\n",
       "      <td>NaT</td>\n",
       "      <td>no</td>\n",
       "      <td>yes</td>\n",
       "      <td>0</td>\n",
       "    </tr>\n",
       "    <tr>\n",
       "      <th>25</th>\n",
       "      <td>27857</td>\n",
       "      <td>2018-01-02 21:25:30</td>\n",
       "      <td>2018-01-03 07:18:57</td>\n",
       "      <td>0</td>\n",
       "      <td>0</td>\n",
       "      <td>0</td>\n",
       "      <td>0.0</td>\n",
       "      <td>0</td>\n",
       "      <td>0.0</td>\n",
       "      <td>NaT</td>\n",
       "      <td>NaT</td>\n",
       "      <td>no</td>\n",
       "      <td>yes</td>\n",
       "      <td>0</td>\n",
       "    </tr>\n",
       "    <tr>\n",
       "      <th>27</th>\n",
       "      <td>27859</td>\n",
       "      <td>2018-01-02 21:30:27</td>\n",
       "      <td>2018-01-02 21:37:44</td>\n",
       "      <td>0</td>\n",
       "      <td>2018-01-03 01:11:45</td>\n",
       "      <td>0</td>\n",
       "      <td>0.0</td>\n",
       "      <td>0</td>\n",
       "      <td>0.0</td>\n",
       "      <td>NaT</td>\n",
       "      <td>NaT</td>\n",
       "      <td>no</td>\n",
       "      <td>yes</td>\n",
       "      <td>0</td>\n",
       "    </tr>\n",
       "    <tr>\n",
       "      <th>33</th>\n",
       "      <td>27865</td>\n",
       "      <td>2018-01-03 11:14:57</td>\n",
       "      <td>2018-01-03 23:30:17</td>\n",
       "      <td>0</td>\n",
       "      <td>2018-01-04 05:56:32</td>\n",
       "      <td>2018-01-04 06:03:20</td>\n",
       "      <td>16846.0</td>\n",
       "      <td>2018-01-04 14:46:10</td>\n",
       "      <td>250.0</td>\n",
       "      <td>0 days 00:06:48</td>\n",
       "      <td>0 days 08:42:50</td>\n",
       "      <td>no</td>\n",
       "      <td>yes</td>\n",
       "      <td>1</td>\n",
       "    </tr>\n",
       "    <tr>\n",
       "      <th>...</th>\n",
       "      <td>...</td>\n",
       "      <td>...</td>\n",
       "      <td>...</td>\n",
       "      <td>...</td>\n",
       "      <td>...</td>\n",
       "      <td>...</td>\n",
       "      <td>...</td>\n",
       "      <td>...</td>\n",
       "      <td>...</td>\n",
       "      <td>...</td>\n",
       "      <td>...</td>\n",
       "      <td>...</td>\n",
       "      <td>...</td>\n",
       "      <td>...</td>\n",
       "    </tr>\n",
       "    <tr>\n",
       "      <th>19780</th>\n",
       "      <td>47612</td>\n",
       "      <td>2018-12-27 18:49:35</td>\n",
       "      <td>2018-12-27 22:49:43</td>\n",
       "      <td>0</td>\n",
       "      <td>0</td>\n",
       "      <td>0</td>\n",
       "      <td>0.0</td>\n",
       "      <td>0</td>\n",
       "      <td>0.0</td>\n",
       "      <td>NaT</td>\n",
       "      <td>NaT</td>\n",
       "      <td>no</td>\n",
       "      <td>yes</td>\n",
       "      <td>0</td>\n",
       "    </tr>\n",
       "    <tr>\n",
       "      <th>19800</th>\n",
       "      <td>47632</td>\n",
       "      <td>2018-12-28 04:54:41</td>\n",
       "      <td>2018-12-28 09:35:33</td>\n",
       "      <td>0</td>\n",
       "      <td>0</td>\n",
       "      <td>0</td>\n",
       "      <td>0.0</td>\n",
       "      <td>0</td>\n",
       "      <td>0.0</td>\n",
       "      <td>NaT</td>\n",
       "      <td>NaT</td>\n",
       "      <td>no</td>\n",
       "      <td>yes</td>\n",
       "      <td>0</td>\n",
       "    </tr>\n",
       "    <tr>\n",
       "      <th>19843</th>\n",
       "      <td>47675</td>\n",
       "      <td>2018-12-28 21:35:31</td>\n",
       "      <td>2018-12-28 23:59:07</td>\n",
       "      <td>0</td>\n",
       "      <td>0</td>\n",
       "      <td>0</td>\n",
       "      <td>0.0</td>\n",
       "      <td>0</td>\n",
       "      <td>0.0</td>\n",
       "      <td>NaT</td>\n",
       "      <td>NaT</td>\n",
       "      <td>no</td>\n",
       "      <td>yes</td>\n",
       "      <td>0</td>\n",
       "    </tr>\n",
       "    <tr>\n",
       "      <th>19851</th>\n",
       "      <td>47683</td>\n",
       "      <td>2018-12-29 06:21:41</td>\n",
       "      <td>2018-12-29 16:29:49</td>\n",
       "      <td>0</td>\n",
       "      <td>2018-12-29 19:54:03</td>\n",
       "      <td>0</td>\n",
       "      <td>0.0</td>\n",
       "      <td>0</td>\n",
       "      <td>0.0</td>\n",
       "      <td>NaT</td>\n",
       "      <td>NaT</td>\n",
       "      <td>no</td>\n",
       "      <td>yes</td>\n",
       "      <td>0</td>\n",
       "    </tr>\n",
       "    <tr>\n",
       "      <th>19893</th>\n",
       "      <td>47725</td>\n",
       "      <td>2018-12-30 10:39:18</td>\n",
       "      <td>2018-12-30 12:08:15</td>\n",
       "      <td>0</td>\n",
       "      <td>2018-12-30 12:28:11</td>\n",
       "      <td>0</td>\n",
       "      <td>0.0</td>\n",
       "      <td>0</td>\n",
       "      <td>0.0</td>\n",
       "      <td>NaT</td>\n",
       "      <td>NaT</td>\n",
       "      <td>no</td>\n",
       "      <td>yes</td>\n",
       "      <td>0</td>\n",
       "    </tr>\n",
       "  </tbody>\n",
       "</table>\n",
       "<p>1608 rows × 14 columns</p>\n",
       "</div>"
      ],
      "text/plain": [
       "       user_id        registration       tutorial_start tutorial_finish  \\\n",
       "8        27840 2018-01-01 20:53:21  2018-01-02 02:07:07               0   \n",
       "24       27856 2018-01-02 21:18:21  2018-01-03 04:36:55               0   \n",
       "25       27857 2018-01-02 21:25:30  2018-01-03 07:18:57               0   \n",
       "27       27859 2018-01-02 21:30:27  2018-01-02 21:37:44               0   \n",
       "33       27865 2018-01-03 11:14:57  2018-01-03 23:30:17               0   \n",
       "...        ...                 ...                  ...             ...   \n",
       "19780    47612 2018-12-27 18:49:35  2018-12-27 22:49:43               0   \n",
       "19800    47632 2018-12-28 04:54:41  2018-12-28 09:35:33               0   \n",
       "19843    47675 2018-12-28 21:35:31  2018-12-28 23:59:07               0   \n",
       "19851    47683 2018-12-29 06:21:41  2018-12-29 16:29:49               0   \n",
       "19893    47725 2018-12-30 10:39:18  2018-12-30 12:08:15               0   \n",
       "\n",
       "              level_choice          pack_choice  purchase_id  \\\n",
       "8      2018-01-02 05:18:42                    0          0.0   \n",
       "24     2018-01-03 08:31:35  2018-01-03 08:33:35          0.0   \n",
       "25                       0                    0          0.0   \n",
       "27     2018-01-03 01:11:45                    0          0.0   \n",
       "33     2018-01-04 05:56:32  2018-01-04 06:03:20      16846.0   \n",
       "...                    ...                  ...          ...   \n",
       "19780                    0                    0          0.0   \n",
       "19800                    0                    0          0.0   \n",
       "19843                    0                    0          0.0   \n",
       "19851  2018-12-29 19:54:03                    0          0.0   \n",
       "19893  2018-12-30 12:28:11                    0          0.0   \n",
       "\n",
       "               purchase_dt  amount timedelta_level_choice  \\\n",
       "8                        0     0.0                    NaT   \n",
       "24                       0     0.0        0 days 00:02:00   \n",
       "25                       0     0.0                    NaT   \n",
       "27                       0     0.0                    NaT   \n",
       "33     2018-01-04 14:46:10   250.0        0 days 00:06:48   \n",
       "...                    ...     ...                    ...   \n",
       "19780                    0     0.0                    NaT   \n",
       "19800                    0     0.0                    NaT   \n",
       "19843                    0     0.0                    NaT   \n",
       "19851                    0     0.0                    NaT   \n",
       "19893                    0     0.0                    NaT   \n",
       "\n",
       "      timedelta_pack_choice tutorial_completed tutorial_started  purchase  \n",
       "8                       NaT                 no              yes         0  \n",
       "24                      NaT                 no              yes         0  \n",
       "25                      NaT                 no              yes         0  \n",
       "27                      NaT                 no              yes         0  \n",
       "33          0 days 08:42:50                 no              yes         1  \n",
       "...                     ...                ...              ...       ...  \n",
       "19780                   NaT                 no              yes         0  \n",
       "19800                   NaT                 no              yes         0  \n",
       "19843                   NaT                 no              yes         0  \n",
       "19851                   NaT                 no              yes         0  \n",
       "19893                   NaT                 no              yes         0  \n",
       "\n",
       "[1608 rows x 14 columns]"
      ]
     },
     "execution_count": 17,
     "metadata": {},
     "output_type": "execute_result"
    }
   ],
   "source": [
    "group_2\n"
   ]
  },
  {
   "cell_type": "code",
   "execution_count": 18,
   "id": "b65e1e6d",
   "metadata": {},
   "outputs": [
    {
     "name": "stderr",
     "output_type": "stream",
     "text": [
      "/var/folders/vy/dqjs80ms1kg43qy8g1wp0x1m0000gn/T/ipykernel_80837/3823903432.py:1: SettingWithCopyWarning: \n",
      "A value is trying to be set on a copy of a slice from a DataFrame.\n",
      "Try using .loc[row_indexer,col_indexer] = value instead\n",
      "\n",
      "See the caveats in the documentation: https://pandas.pydata.org/pandas-docs/stable/user_guide/indexing.html#returning-a-view-versus-a-copy\n",
      "  group_1['group'] = 'training completed'\n",
      "/var/folders/vy/dqjs80ms1kg43qy8g1wp0x1m0000gn/T/ipykernel_80837/3823903432.py:2: SettingWithCopyWarning: \n",
      "A value is trying to be set on a copy of a slice from a DataFrame.\n",
      "Try using .loc[row_indexer,col_indexer] = value instead\n",
      "\n",
      "See the caveats in the documentation: https://pandas.pydata.org/pandas-docs/stable/user_guide/indexing.html#returning-a-view-versus-a-copy\n",
      "  group_2['group'] = 'started not completed'\n",
      "/var/folders/vy/dqjs80ms1kg43qy8g1wp0x1m0000gn/T/ipykernel_80837/3823903432.py:3: SettingWithCopyWarning: \n",
      "A value is trying to be set on a copy of a slice from a DataFrame.\n",
      "Try using .loc[row_indexer,col_indexer] = value instead\n",
      "\n",
      "See the caveats in the documentation: https://pandas.pydata.org/pandas-docs/stable/user_guide/indexing.html#returning-a-view-versus-a-copy\n",
      "  group_3['group'] = 'not started'\n"
     ]
    }
   ],
   "source": [
    "group_1['group'] = 'training completed'\n",
    "group_2['group'] = 'started not completed'\n",
    "group_3['group'] = 'not started'"
   ]
  },
  {
   "cell_type": "markdown",
   "id": "ffdc4edf",
   "metadata": {},
   "source": [
    "#### Исследую время прохождения этапа \"выбор уровня сложности\" для трех групп:"
   ]
  },
  {
   "cell_type": "code",
   "execution_count": 19,
   "id": "17030627",
   "metadata": {},
   "outputs": [
    {
     "name": "stdout",
     "output_type": "stream",
     "text": [
      "Время прохождения этапа выбора уровня у пользователей, которые завершили обучение: 0 days 00:05:18.146058732\n",
      "... которые начали обучение, но не завершили его: 0 days 00:05:05.295687885\n",
      "... которые не начали обучение: 0 days 00:05:23.824324324\n"
     ]
    }
   ],
   "source": [
    "print(\"Время прохождения этапа выбора уровня у пользователей, которые завершили обучение: {}\".format(group_1['timedelta_level_choice'].mean()))\n",
    "print(\"... которые начали обучение, но не завершили его: {}\".format(group_2['timedelta_level_choice'].mean()))\n",
    "print(\"... которые не начали обучение: {}\".format(group_3['timedelta_level_choice'].mean()))"
   ]
  },
  {
   "cell_type": "code",
   "execution_count": 20,
   "id": "44735bda",
   "metadata": {},
   "outputs": [],
   "source": [
    "for_viz = pd.concat([group_1, group_2, group_3], axis=0)"
   ]
  },
  {
   "cell_type": "code",
   "execution_count": 21,
   "id": "6800e0ef",
   "metadata": {},
   "outputs": [],
   "source": [
    "for_viz['timedelta_level_choice'] = for_viz['timedelta_level_choice']/pd.Timedelta(seconds=1)"
   ]
  },
  {
   "cell_type": "code",
   "execution_count": 22,
   "id": "ebf0e198",
   "metadata": {},
   "outputs": [],
   "source": [
    "a = for_viz.groupby(by='group')['timedelta_level_choice'].mean().reset_index()"
   ]
  },
  {
   "cell_type": "code",
   "execution_count": 23,
   "id": "85e53dd2",
   "metadata": {},
   "outputs": [
    {
     "data": {
      "text/plain": [
       "Text(0.5, 1.0, 'Длительность этапа \"выбор уровня вопросов\" для 3 групп (в секундах)')"
      ]
     },
     "execution_count": 23,
     "metadata": {},
     "output_type": "execute_result"
    },
    {
     "data": {
      "image/png": "[encoded data removed]",
      "text/plain": [
       "<Figure size 600x400 with 1 Axes>"
      ]
     },
     "metadata": {},
     "output_type": "display_data"
    }
   ],
   "source": [
    "fig = plt.figure(figsize=(6, 4))\n",
    "main_axes = fig.add_axes([0, 0, 1, 1])\n",
    "main_axes.bar(x = a.group, height = a.timedelta_level_choice, color='green');\n",
    "main_axes.set_ylabel('Сек')\n",
    "main_axes.set_xlabel('Группа')\n",
    "main_axes.set_title('Длительность этапа \"выбор уровня вопросов\" для 3 групп (в секундах)')"
   ]
  },
  {
   "cell_type": "markdown",
   "id": "b811ba20",
   "metadata": {},
   "source": [
    "#### Вывод: \n",
    "1. Разница между тремя группами на этапе \"Выбор уровня\" минимальна\n",
    "#### Исследую время прохождения этапа выбора пакета вопросов у трех групп:"
   ]
  },
  {
   "cell_type": "code",
   "execution_count": 24,
   "id": "6c30a8e1",
   "metadata": {},
   "outputs": [
    {
     "name": "stdout",
     "output_type": "stream",
     "text": [
      "Время прохождения этапа выбор пакетов у пользователей, которые завершили обучение: 3 days 17:17:59.641326883\n",
      "... которые начали обучение, но не завершили его: 3 days 21:14:46.908396946\n",
      "... которые не начали обучение: 4 days 04:49:33.590909090\n"
     ]
    }
   ],
   "source": [
    "print(\"Время прохождения этапа выбор пакетов у пользователей, которые завершили обучение: {}\".format(group_1['timedelta_pack_choice'].mean()))\n",
    "print(\"... которые начали обучение, но не завершили его: {}\".format(group_2['timedelta_pack_choice'].mean()))\n",
    "print(\"... которые не начали обучение: {}\".format(group_3['timedelta_pack_choice'].mean()))"
   ]
  },
  {
   "cell_type": "code",
   "execution_count": 25,
   "id": "839002ab",
   "metadata": {},
   "outputs": [
    {
     "name": "stdout",
     "output_type": "stream",
     "text": [
      "<class 'pandas.core.frame.DataFrame'>\n",
      "Int64Index: 19926 entries, 1 to 19925\n",
      "Data columns (total 15 columns):\n",
      " #   Column                  Non-Null Count  Dtype          \n",
      "---  ------                  --------------  -----          \n",
      " 0   user_id                 19926 non-null  int64          \n",
      " 1   registration            19926 non-null  datetime64[ns] \n",
      " 2   tutorial_start          19926 non-null  object         \n",
      " 3   tutorial_finish         19926 non-null  object         \n",
      " 4   level_choice            19926 non-null  object         \n",
      " 5   pack_choice             19926 non-null  object         \n",
      " 6   purchase_id             19926 non-null  float64        \n",
      " 7   purchase_dt             19926 non-null  object         \n",
      " 8   amount                  19926 non-null  float64        \n",
      " 9   timedelta_level_choice  5737 non-null   float64        \n",
      " 10  timedelta_pack_choice   1600 non-null   timedelta64[ns]\n",
      " 11  tutorial_completed      19926 non-null  object         \n",
      " 12  tutorial_started        19926 non-null  object         \n",
      " 13  purchase                19926 non-null  int64          \n",
      " 14  group                   19926 non-null  object         \n",
      "dtypes: datetime64[ns](1), float64(3), int64(2), object(8), timedelta64[ns](1)\n",
      "memory usage: 2.4+ MB\n"
     ]
    }
   ],
   "source": [
    "for_viz.info()"
   ]
  },
  {
   "cell_type": "code",
   "execution_count": 26,
   "id": "83e487a2",
   "metadata": {},
   "outputs": [],
   "source": [
    "for_viz['timedelta_pack_choice'] = for_viz['timedelta_pack_choice']/pd.Timedelta(days=1)"
   ]
  },
  {
   "cell_type": "code",
   "execution_count": 27,
   "id": "4fd4cec7",
   "metadata": {},
   "outputs": [
    {
     "data": {
      "text/plain": [
       "Text(0.5, 1.0, 'Длительность этапа \"выбор пакета вопросов\" для 3 групп (в днях)')"
      ]
     },
     "execution_count": 27,
     "metadata": {},
     "output_type": "execute_result"
    },
    {
     "data": {
      "image/png": "[encoded data removed]",
      "text/plain": [
       "<Figure size 600x400 with 1 Axes>"
      ]
     },
     "metadata": {},
     "output_type": "display_data"
    }
   ],
   "source": [
    "a = for_viz.groupby(by='group')['timedelta_pack_choice'].mean().reset_index()\n",
    "fig = plt.figure(figsize=(6, 4))\n",
    "main_axes = fig.add_axes([0, 0, 1, 1])\n",
    "main_axes.bar(x = a.group, height = a.timedelta_pack_choice, color='green');\n",
    "main_axes.set_ylabel('Дней')\n",
    "main_axes.set_xlabel('Группа')\n",
    "main_axes.set_title('Длительность этапа \"выбор пакета вопросов\" для 3 групп (в днях)')"
   ]
  },
  {
   "cell_type": "markdown",
   "id": "6ae7fcba",
   "metadata": {},
   "source": [
    "#### Рассмотрим также процент людей в группах, купивших вопросы"
   ]
  },
  {
   "cell_type": "code",
   "execution_count": 28,
   "id": "48cc0251",
   "metadata": {},
   "outputs": [
    {
     "name": "stdout",
     "output_type": "stream",
     "text": [
      "Конверсия покупок пользователей, которые завершили обучение: 14.12%\n",
      "... которые начали обучение, но не завершили его: 8.15%\n",
      "... которые не начали обучение: 0.27%\n"
     ]
    }
   ],
   "source": [
    "print(\"Конверсия покупок пользователей, которые завершили обучение: {}%\".format(round(group_1.purchase.sum()/group_1.purchase.count()*100,2)))\n",
    "print(\"... которые начали обучение, но не завершили его: {}%\".format(round(group_2.purchase.sum()/group_2.purchase.count()*100,2)))\n",
    "print(\"... которые не начали обучение: {}%\".format(round(group_3.purchase.sum()/group_3.purchase.count()*100,2)))"
   ]
  },
  {
   "cell_type": "markdown",
   "id": "9c53b1cd",
   "metadata": {},
   "source": [
    "#### Выводы: \n",
    "1. разница между тремя группами на этапе \"Выбор пакетов\" есть. \n",
    "2. Пользователи, которые завершили обучение, быстрее всех проходят этап и приступают к оплате. \n",
    "3. В среднем на пол часа медленнее к оплате переходят пользователи, начинавшие и не закончившие обучение. \n",
    "4. Самой поздней в оплатах является группа, состоящая из пользователей, которые не начали обучение - к оплате переходят в среднем через 4 дня, 4 часа.\n",
    "5. Конверсия явно различается между группами с завершенным обучением, начинавшей и не закончившей его и группой, не начинавшей обучение: процент людей, сделавших покупку дополнительных карточек в трех группах, равняется соответсвенно 14.12%, 8.15% и 0.27%.  \n",
    "\n",
    "#### Это свидетельствует о том, что полное прохождение обучения способствует чуть более быстрому (~ 30 мин) прохождению этапа \"Выбор пакетов\", а также  более вероятной покупке вопросов (в 1.7 раза вероятнее группы, начинавшей, но не закончившей обучение и в 52 раза вероятне группы без обучения). При этом на прохождение этапа \"Выбор уровня\" прохождение обучения не влияет."
   ]
  },
  {
   "cell_type": "markdown",
   "id": "0d88afd8",
   "metadata": {},
   "source": [
    "## Гипотеза 2\n",
    "### Повторное прохождение обучения положительно влияет на оплату\n"
   ]
  },
  {
   "cell_type": "code",
   "execution_count": 29,
   "id": "7ccdd2f7",
   "metadata": {},
   "outputs": [],
   "source": [
    "joined = event_df.merge(pur, on='user_id', how='left') \n",
    "joined.rename(columns = {'id_x':'event_id', 'id_y':'purchase_id'}, inplace = True )"
   ]
  },
  {
   "cell_type": "code",
   "execution_count": 30,
   "id": "411f3ea0",
   "metadata": {},
   "outputs": [],
   "source": [
    "# добавляем столбец наличия/отсутствия оплат \n",
    "joined['purchase'] = np.where(joined['purchase_id'].isnull(), 0,1)"
   ]
  },
  {
   "cell_type": "code",
   "execution_count": 31,
   "id": "faf063ed",
   "metadata": {},
   "outputs": [],
   "source": [
    "# создаем столбец с количеством начал обучения\n",
    "tutorial_start = joined[joined['event_type'] == 'tutorial_start'].groupby(by='user_id')['event_type'].count()\n",
    "tutorial_start = tutorial_start.reset_index()"
   ]
  },
  {
   "cell_type": "code",
   "execution_count": 32,
   "id": "7bdbc8f4",
   "metadata": {},
   "outputs": [],
   "source": [
    "tutorial_start.rename(columns = {'event_type':'tutorial_start_cnt'}, inplace = True )"
   ]
  },
  {
   "cell_type": "code",
   "execution_count": 33,
   "id": "90a52297",
   "metadata": {},
   "outputs": [],
   "source": [
    "# создаем столбец с количеством окончаний обучения\n",
    "tutorial_finish = joined[joined['event_type'] == 'tutorial_finish'].groupby(by='user_id')['event_type'].count()\n",
    "tutorial_finish = tutorial_finish.reset_index()"
   ]
  },
  {
   "cell_type": "code",
   "execution_count": 34,
   "id": "2058e1b4",
   "metadata": {},
   "outputs": [],
   "source": [
    "tutorial_finish.rename(columns = {'event_type':'tutorial_finish_cnt'}, inplace = True )"
   ]
  },
  {
   "cell_type": "code",
   "execution_count": 35,
   "id": "aa72dca0",
   "metadata": {},
   "outputs": [],
   "source": [
    "# добавляем столбец с количеством начал обучения\n",
    "joined = joined.merge(tutorial_start, on = 'user_id', how='left')"
   ]
  },
  {
   "cell_type": "code",
   "execution_count": 36,
   "id": "ef9ef0df",
   "metadata": {},
   "outputs": [],
   "source": [
    "# добавляем столбец с количеством окончаний обучения\n",
    "joined = joined.merge(tutorial_finish, on = 'user_id', how='left')"
   ]
  },
  {
   "cell_type": "code",
   "execution_count": 37,
   "id": "ae410119",
   "metadata": {},
   "outputs": [],
   "source": [
    "joined['tutorial_finish_cnt'] = joined['tutorial_finish_cnt']. fillna (0)\n",
    "joined['tutorial_start_cnt'] = joined['tutorial_start_cnt']. fillna (0)"
   ]
  },
  {
   "cell_type": "markdown",
   "id": "3475f326",
   "metadata": {},
   "source": [
    "#### Делим пользователей на 4 группы: \n",
    "1. группа пользователей, начавшая обучение 1 раз\n",
    "2. группа пользователей, начавшая обучение более 1 раза\n",
    "3. группа пользователей, закончившая обучение 1 раз\n",
    "4. группа пользователей, закончившая обучение более одного раза"
   ]
  },
  {
   "cell_type": "code",
   "execution_count": 38,
   "id": "55529625",
   "metadata": {},
   "outputs": [],
   "source": [
    "tutorial_start_1 = joined[joined['tutorial_start_cnt'] == 1]\n",
    "tutorial_start_2 = joined[joined['tutorial_start_cnt'] > 1]\n",
    "tutorial_finish_1 = joined[joined['tutorial_finish_cnt'] == 1]\n",
    "tutorial_finish_2 = joined[joined['tutorial_finish_cnt'] > 1]"
   ]
  },
  {
   "cell_type": "markdown",
   "id": "f223575e",
   "metadata": {},
   "source": [
    "#### Проверяю, существует ли зависимость между вероятностью оплаты вопросов и количеством обучений, которые начинал или завершал пользователь."
   ]
  },
  {
   "cell_type": "code",
   "execution_count": 39,
   "id": "1b80a534",
   "metadata": {},
   "outputs": [
    {
     "name": "stdout",
     "output_type": "stream",
     "text": [
      "абсолютное значение оплат у группы пользователей, начавшей обучение 1 раз: 5911 оплат\n",
      "относительное значение: 16.24 %\n"
     ]
    }
   ],
   "source": [
    "print(\"абсолютное значение оплат у группы пользователей, начавшей обучение 1 раз: {} оплат\".format(tutorial_start_1[tutorial_start_1['purchase']==1].purchase.count()))\n",
    "print(\"относительное значение: {} %\".format(round(tutorial_start_1[tutorial_start_1['purchase']==1].purchase.count()/tutorial_start_1.purchase.count()*100,2)))\n",
    "      "
   ]
  },
  {
   "cell_type": "code",
   "execution_count": 40,
   "id": "660262ae",
   "metadata": {},
   "outputs": [
    {
     "name": "stdout",
     "output_type": "stream",
     "text": [
      "абсолютное значение оплат у группы пользователей, начавшей обучение более 1 раза: 3333 оплат\n",
      "относительное значение: 14.94 %\n"
     ]
    }
   ],
   "source": [
    "\n",
    "print(\"абсолютное значение оплат у группы пользователей, начавшей обучение более 1 раза: {} оплат\".format(tutorial_start_2[tutorial_start_2['purchase']==1].purchase.count()))\n",
    "print(\"относительное значение: {} %\".format(round(tutorial_start_2[tutorial_start_2['purchase']==1].purchase.count()/tutorial_start_2.purchase.count()*100,2)))\n",
    "      "
   ]
  },
  {
   "cell_type": "code",
   "execution_count": 41,
   "id": "56c4130c",
   "metadata": {},
   "outputs": [
    {
     "name": "stdout",
     "output_type": "stream",
     "text": [
      "абсолютное значение оплат у группы пользователей, закончившая обучение 1 раз: 5785 оплат\n",
      "относительное значение: 16.73 %\n"
     ]
    }
   ],
   "source": [
    "print(\"абсолютное значение оплат у группы пользователей, закончившая обучение 1 раз: {} оплат\".format(tutorial_finish_1[tutorial_finish_1['purchase']==1].purchase.count()))\n",
    "print(\"относительное значение: {} %\".format(round(tutorial_finish_1[tutorial_finish_1['purchase']==1].purchase.count()/tutorial_finish_1.purchase.count()*100,2)))\n",
    "      "
   ]
  },
  {
   "cell_type": "code",
   "execution_count": 42,
   "id": "c3466fbf",
   "metadata": {},
   "outputs": [
    {
     "name": "stdout",
     "output_type": "stream",
     "text": [
      "абсолютное значение оплат у группы пользователей, закончившей обучение более 1 раза: 2928 оплат\n",
      "относительное значение: 14.92 %\n"
     ]
    }
   ],
   "source": [
    "tutorial_finish_2[tutorial_finish_2['purchase']==1].purchase.count()\n",
    "print(\"абсолютное значение оплат у группы пользователей, закончившей обучение более 1 раза: {} оплат\".format(tutorial_finish_2[tutorial_finish_2['purchase']==1].purchase.count()))\n",
    "print(\"относительное значение: {} %\".format(round(tutorial_finish_2[tutorial_finish_2['purchase']==1].purchase.count()/tutorial_finish_2.purchase.count()*100,2)))\n",
    "      "
   ]
  },
  {
   "cell_type": "markdown",
   "id": "d68486ae",
   "metadata": {},
   "source": [
    "### выводы: \n",
    " 1. обнаружена разница между количеством оплат у группы, начавшей обучение 1 раз (16.2% оплат), и группы, начавшей обучение более 1 раза (14.9%). Первая в процентном соотношении имеет оплат на 1.3% больше, чем группа с повторными старатами обучения. \n",
    " 2. схожая картина наблюлается и в группах с разным количеством завершений обучения. Так в группе с единственным завершением наблюдается процент оплат равняется 16.7%, а в группе с повторными завершениями обучения - 14.9%.\n",
    "### Проверим, есть ли зависимость доли оплат от количества начала/окончания обучения.\n"
   ]
  },
  {
   "cell_type": "code",
   "execution_count": 43,
   "id": "0e85d4b8",
   "metadata": {},
   "outputs": [
    {
     "data": {
      "text/html": [
       "<div>\n",
       "<style scoped>\n",
       "    .dataframe tbody tr th:only-of-type {\n",
       "        vertical-align: middle;\n",
       "    }\n",
       "\n",
       "    .dataframe tbody tr th {\n",
       "        vertical-align: top;\n",
       "    }\n",
       "\n",
       "    .dataframe thead th {\n",
       "        text-align: right;\n",
       "    }\n",
       "</style>\n",
       "<table border=\"1\" class=\"dataframe\">\n",
       "  <thead>\n",
       "    <tr style=\"text-align: right;\">\n",
       "      <th></th>\n",
       "      <th>tutorial_start_cnt</th>\n",
       "      <th>purchase</th>\n",
       "      <th>purchase_cnt</th>\n",
       "    </tr>\n",
       "  </thead>\n",
       "  <tbody>\n",
       "    <tr>\n",
       "      <th>0</th>\n",
       "      <td>0.0</td>\n",
       "      <td>0</td>\n",
       "      <td>8174</td>\n",
       "    </tr>\n",
       "    <tr>\n",
       "      <th>1</th>\n",
       "      <td>0.0</td>\n",
       "      <td>1</td>\n",
       "      <td>66</td>\n",
       "    </tr>\n",
       "    <tr>\n",
       "      <th>2</th>\n",
       "      <td>1.0</td>\n",
       "      <td>0</td>\n",
       "      <td>30497</td>\n",
       "    </tr>\n",
       "    <tr>\n",
       "      <th>3</th>\n",
       "      <td>1.0</td>\n",
       "      <td>1</td>\n",
       "      <td>5911</td>\n",
       "    </tr>\n",
       "    <tr>\n",
       "      <th>4</th>\n",
       "      <td>2.0</td>\n",
       "      <td>0</td>\n",
       "      <td>7834</td>\n",
       "    </tr>\n",
       "    <tr>\n",
       "      <th>5</th>\n",
       "      <td>2.0</td>\n",
       "      <td>1</td>\n",
       "      <td>1460</td>\n",
       "    </tr>\n",
       "    <tr>\n",
       "      <th>6</th>\n",
       "      <td>3.0</td>\n",
       "      <td>0</td>\n",
       "      <td>2808</td>\n",
       "    </tr>\n",
       "    <tr>\n",
       "      <th>7</th>\n",
       "      <td>3.0</td>\n",
       "      <td>1</td>\n",
       "      <td>427</td>\n",
       "    </tr>\n",
       "    <tr>\n",
       "      <th>8</th>\n",
       "      <td>4.0</td>\n",
       "      <td>0</td>\n",
       "      <td>1749</td>\n",
       "    </tr>\n",
       "    <tr>\n",
       "      <th>9</th>\n",
       "      <td>4.0</td>\n",
       "      <td>1</td>\n",
       "      <td>306</td>\n",
       "    </tr>\n",
       "    <tr>\n",
       "      <th>10</th>\n",
       "      <td>5.0</td>\n",
       "      <td>0</td>\n",
       "      <td>1021</td>\n",
       "    </tr>\n",
       "    <tr>\n",
       "      <th>11</th>\n",
       "      <td>5.0</td>\n",
       "      <td>1</td>\n",
       "      <td>194</td>\n",
       "    </tr>\n",
       "    <tr>\n",
       "      <th>12</th>\n",
       "      <td>6.0</td>\n",
       "      <td>0</td>\n",
       "      <td>1311</td>\n",
       "    </tr>\n",
       "    <tr>\n",
       "      <th>13</th>\n",
       "      <td>6.0</td>\n",
       "      <td>1</td>\n",
       "      <td>196</td>\n",
       "    </tr>\n",
       "    <tr>\n",
       "      <th>14</th>\n",
       "      <td>7.0</td>\n",
       "      <td>0</td>\n",
       "      <td>1250</td>\n",
       "    </tr>\n",
       "    <tr>\n",
       "      <th>15</th>\n",
       "      <td>7.0</td>\n",
       "      <td>1</td>\n",
       "      <td>189</td>\n",
       "    </tr>\n",
       "    <tr>\n",
       "      <th>16</th>\n",
       "      <td>8.0</td>\n",
       "      <td>0</td>\n",
       "      <td>1217</td>\n",
       "    </tr>\n",
       "    <tr>\n",
       "      <th>17</th>\n",
       "      <td>8.0</td>\n",
       "      <td>1</td>\n",
       "      <td>234</td>\n",
       "    </tr>\n",
       "    <tr>\n",
       "      <th>18</th>\n",
       "      <td>9.0</td>\n",
       "      <td>0</td>\n",
       "      <td>1788</td>\n",
       "    </tr>\n",
       "    <tr>\n",
       "      <th>19</th>\n",
       "      <td>9.0</td>\n",
       "      <td>1</td>\n",
       "      <td>327</td>\n",
       "    </tr>\n",
       "  </tbody>\n",
       "</table>\n",
       "</div>"
      ],
      "text/plain": [
       "    tutorial_start_cnt  purchase  purchase_cnt\n",
       "0                  0.0         0          8174\n",
       "1                  0.0         1            66\n",
       "2                  1.0         0         30497\n",
       "3                  1.0         1          5911\n",
       "4                  2.0         0          7834\n",
       "5                  2.0         1          1460\n",
       "6                  3.0         0          2808\n",
       "7                  3.0         1           427\n",
       "8                  4.0         0          1749\n",
       "9                  4.0         1           306\n",
       "10                 5.0         0          1021\n",
       "11                 5.0         1           194\n",
       "12                 6.0         0          1311\n",
       "13                 6.0         1           196\n",
       "14                 7.0         0          1250\n",
       "15                 7.0         1           189\n",
       "16                 8.0         0          1217\n",
       "17                 8.0         1           234\n",
       "18                 9.0         0          1788\n",
       "19                 9.0         1           327"
      ]
     },
     "execution_count": 43,
     "metadata": {},
     "output_type": "execute_result"
    }
   ],
   "source": [
    "start_pur = joined.groupby(['tutorial_start_cnt', 'purchase']).size ().reset_index(name='purchase_cnt')\n",
    "start_pur"
   ]
  },
  {
   "cell_type": "code",
   "execution_count": 44,
   "id": "749f2a37",
   "metadata": {},
   "outputs": [],
   "source": [
    "sum_start = start_pur.pivot_table(\n",
    "values='purchase_cnt', index='tutorial_start_cnt', aggfunc='sum', fill_value=0\n",
    ")"
   ]
  },
  {
   "cell_type": "code",
   "execution_count": 45,
   "id": "b72a4941",
   "metadata": {},
   "outputs": [],
   "source": [
    "start_pur = start_pur.merge(sum_start, on='tutorial_start_cnt', how= 'left')"
   ]
  },
  {
   "cell_type": "code",
   "execution_count": 46,
   "id": "afba2cf1",
   "metadata": {},
   "outputs": [
    {
     "data": {
      "text/html": [
       "<div>\n",
       "<style scoped>\n",
       "    .dataframe tbody tr th:only-of-type {\n",
       "        vertical-align: middle;\n",
       "    }\n",
       "\n",
       "    .dataframe tbody tr th {\n",
       "        vertical-align: top;\n",
       "    }\n",
       "\n",
       "    .dataframe thead th {\n",
       "        text-align: right;\n",
       "    }\n",
       "</style>\n",
       "<table border=\"1\" class=\"dataframe\">\n",
       "  <thead>\n",
       "    <tr style=\"text-align: right;\">\n",
       "      <th></th>\n",
       "      <th>tutorial_start_cnt</th>\n",
       "      <th>purchase</th>\n",
       "      <th>purchase_cnt_x</th>\n",
       "      <th>purchase_cnt_y</th>\n",
       "      <th>percent</th>\n",
       "    </tr>\n",
       "  </thead>\n",
       "  <tbody>\n",
       "    <tr>\n",
       "      <th>1</th>\n",
       "      <td>0.0</td>\n",
       "      <td>1</td>\n",
       "      <td>66</td>\n",
       "      <td>8240</td>\n",
       "      <td>0.80</td>\n",
       "    </tr>\n",
       "    <tr>\n",
       "      <th>3</th>\n",
       "      <td>1.0</td>\n",
       "      <td>1</td>\n",
       "      <td>5911</td>\n",
       "      <td>36408</td>\n",
       "      <td>16.24</td>\n",
       "    </tr>\n",
       "    <tr>\n",
       "      <th>5</th>\n",
       "      <td>2.0</td>\n",
       "      <td>1</td>\n",
       "      <td>1460</td>\n",
       "      <td>9294</td>\n",
       "      <td>15.71</td>\n",
       "    </tr>\n",
       "    <tr>\n",
       "      <th>7</th>\n",
       "      <td>3.0</td>\n",
       "      <td>1</td>\n",
       "      <td>427</td>\n",
       "      <td>3235</td>\n",
       "      <td>13.20</td>\n",
       "    </tr>\n",
       "    <tr>\n",
       "      <th>9</th>\n",
       "      <td>4.0</td>\n",
       "      <td>1</td>\n",
       "      <td>306</td>\n",
       "      <td>2055</td>\n",
       "      <td>14.89</td>\n",
       "    </tr>\n",
       "    <tr>\n",
       "      <th>11</th>\n",
       "      <td>5.0</td>\n",
       "      <td>1</td>\n",
       "      <td>194</td>\n",
       "      <td>1215</td>\n",
       "      <td>15.97</td>\n",
       "    </tr>\n",
       "    <tr>\n",
       "      <th>13</th>\n",
       "      <td>6.0</td>\n",
       "      <td>1</td>\n",
       "      <td>196</td>\n",
       "      <td>1507</td>\n",
       "      <td>13.01</td>\n",
       "    </tr>\n",
       "    <tr>\n",
       "      <th>15</th>\n",
       "      <td>7.0</td>\n",
       "      <td>1</td>\n",
       "      <td>189</td>\n",
       "      <td>1439</td>\n",
       "      <td>13.13</td>\n",
       "    </tr>\n",
       "    <tr>\n",
       "      <th>17</th>\n",
       "      <td>8.0</td>\n",
       "      <td>1</td>\n",
       "      <td>234</td>\n",
       "      <td>1451</td>\n",
       "      <td>16.13</td>\n",
       "    </tr>\n",
       "    <tr>\n",
       "      <th>19</th>\n",
       "      <td>9.0</td>\n",
       "      <td>1</td>\n",
       "      <td>327</td>\n",
       "      <td>2115</td>\n",
       "      <td>15.46</td>\n",
       "    </tr>\n",
       "  </tbody>\n",
       "</table>\n",
       "</div>"
      ],
      "text/plain": [
       "    tutorial_start_cnt  purchase  purchase_cnt_x  purchase_cnt_y  percent\n",
       "1                  0.0         1              66            8240     0.80\n",
       "3                  1.0         1            5911           36408    16.24\n",
       "5                  2.0         1            1460            9294    15.71\n",
       "7                  3.0         1             427            3235    13.20\n",
       "9                  4.0         1             306            2055    14.89\n",
       "11                 5.0         1             194            1215    15.97\n",
       "13                 6.0         1             196            1507    13.01\n",
       "15                 7.0         1             189            1439    13.13\n",
       "17                 8.0         1             234            1451    16.13\n",
       "19                 9.0         1             327            2115    15.46"
      ]
     },
     "execution_count": 46,
     "metadata": {},
     "output_type": "execute_result"
    }
   ],
   "source": [
    "# вычисляем долю покупок (в %) от всех действий пользователй в разрезе количества начал обучения\n",
    "start_pur = start_pur[start_pur['purchase']==1]\n",
    "start_pur['percent'] = round(start_pur['purchase_cnt_x']/ start_pur['purchase_cnt_y']*100,2)\n",
    "start_pur"
   ]
  },
  {
   "cell_type": "code",
   "execution_count": 47,
   "id": "d830c00a",
   "metadata": {},
   "outputs": [
    {
     "data": {
      "text/plain": [
       "Text(0.5, 1.0, 'Доля покупок (в %) в зависимости от числа начала обучения')"
      ]
     },
     "execution_count": 47,
     "metadata": {},
     "output_type": "execute_result"
    },
    {
     "data": {
      "image/png": "[encoded data removed]",
      "text/plain": [
       "<Figure size 1300x400 with 1 Axes>"
      ]
     },
     "metadata": {},
     "output_type": "display_data"
    }
   ],
   "source": [
    "fig = plt.figure(figsize=(13, 4))\n",
    "main_axes = fig.add_axes([0, 0, 1, 1])\n",
    "main_axes.bar(x = start_pur.tutorial_start_cnt, height = start_pur.percent, color='green');\n",
    "main_axes.set_ylabel('Доля покупок')\n",
    "main_axes.set_xlabel('Количество начал обучения')\n",
    "main_axes.set_title('Доля покупок (в %) в зависимости от числа начала обучения')"
   ]
  },
  {
   "cell_type": "markdown",
   "id": "e6610ca2",
   "metadata": {},
   "source": [
    "#### Выводы: \n",
    "1. Явной зависимости доли покупок от количества начал обучения не обнаружено. показатель в среднем равен 14.9% ± 2.37%\n",
    "2. Зато хорошо видно, что отстувие обучения приводит к значительно меньшим покупах: на 14% меньше, чем в группах как минимум с одним началом обучения\n",
    "#### Проверим таким же образом количество окончаний обучения"
   ]
  },
  {
   "cell_type": "code",
   "execution_count": 48,
   "id": "763ff0eb",
   "metadata": {},
   "outputs": [],
   "source": [
    "finish_purchase = joined.groupby(['tutorial_finish_cnt', 'purchase']).size ().reset_index(name='purchase_cnt')"
   ]
  },
  {
   "cell_type": "code",
   "execution_count": 49,
   "id": "98261fdc",
   "metadata": {},
   "outputs": [],
   "source": [
    "finish_sum = finish_purchase.pivot_table(\n",
    "values='purchase_cnt', index='tutorial_finish_cnt', aggfunc='sum', fill_value=0\n",
    ")"
   ]
  },
  {
   "cell_type": "code",
   "execution_count": 50,
   "id": "222cc150",
   "metadata": {},
   "outputs": [],
   "source": [
    "finish_purchase = finish_purchase.merge(finish_sum, on='tutorial_finish_cnt', how= 'left')"
   ]
  },
  {
   "cell_type": "code",
   "execution_count": 51,
   "id": "4b8d5051",
   "metadata": {},
   "outputs": [],
   "source": [
    "finish_purchase = finish_purchase[finish_purchase['purchase']==1]"
   ]
  },
  {
   "cell_type": "code",
   "execution_count": 52,
   "id": "356f85bc",
   "metadata": {},
   "outputs": [
    {
     "data": {
      "text/html": [
       "<div>\n",
       "<style scoped>\n",
       "    .dataframe tbody tr th:only-of-type {\n",
       "        vertical-align: middle;\n",
       "    }\n",
       "\n",
       "    .dataframe tbody tr th {\n",
       "        vertical-align: top;\n",
       "    }\n",
       "\n",
       "    .dataframe thead th {\n",
       "        text-align: right;\n",
       "    }\n",
       "</style>\n",
       "<table border=\"1\" class=\"dataframe\">\n",
       "  <thead>\n",
       "    <tr style=\"text-align: right;\">\n",
       "      <th></th>\n",
       "      <th>tutorial_finish_cnt</th>\n",
       "      <th>purchase</th>\n",
       "      <th>purchase_cnt_x</th>\n",
       "      <th>purchase_cnt_y</th>\n",
       "      <th>percent</th>\n",
       "    </tr>\n",
       "  </thead>\n",
       "  <tbody>\n",
       "    <tr>\n",
       "      <th>1</th>\n",
       "      <td>0.0</td>\n",
       "      <td>1</td>\n",
       "      <td>597</td>\n",
       "      <td>12741</td>\n",
       "      <td>4.69</td>\n",
       "    </tr>\n",
       "    <tr>\n",
       "      <th>3</th>\n",
       "      <td>1.0</td>\n",
       "      <td>1</td>\n",
       "      <td>5785</td>\n",
       "      <td>34588</td>\n",
       "      <td>16.73</td>\n",
       "    </tr>\n",
       "    <tr>\n",
       "      <th>5</th>\n",
       "      <td>2.0</td>\n",
       "      <td>1</td>\n",
       "      <td>1301</td>\n",
       "      <td>8431</td>\n",
       "      <td>15.43</td>\n",
       "    </tr>\n",
       "    <tr>\n",
       "      <th>7</th>\n",
       "      <td>3.0</td>\n",
       "      <td>1</td>\n",
       "      <td>422</td>\n",
       "      <td>2984</td>\n",
       "      <td>14.14</td>\n",
       "    </tr>\n",
       "    <tr>\n",
       "      <th>9</th>\n",
       "      <td>4.0</td>\n",
       "      <td>1</td>\n",
       "      <td>220</td>\n",
       "      <td>1923</td>\n",
       "      <td>11.44</td>\n",
       "    </tr>\n",
       "    <tr>\n",
       "      <th>11</th>\n",
       "      <td>5.0</td>\n",
       "      <td>1</td>\n",
       "      <td>267</td>\n",
       "      <td>1583</td>\n",
       "      <td>16.87</td>\n",
       "    </tr>\n",
       "    <tr>\n",
       "      <th>13</th>\n",
       "      <td>6.0</td>\n",
       "      <td>1</td>\n",
       "      <td>245</td>\n",
       "      <td>1555</td>\n",
       "      <td>15.76</td>\n",
       "    </tr>\n",
       "    <tr>\n",
       "      <th>15</th>\n",
       "      <td>7.0</td>\n",
       "      <td>1</td>\n",
       "      <td>272</td>\n",
       "      <td>1683</td>\n",
       "      <td>16.16</td>\n",
       "    </tr>\n",
       "    <tr>\n",
       "      <th>17</th>\n",
       "      <td>8.0</td>\n",
       "      <td>1</td>\n",
       "      <td>117</td>\n",
       "      <td>1024</td>\n",
       "      <td>11.43</td>\n",
       "    </tr>\n",
       "    <tr>\n",
       "      <th>19</th>\n",
       "      <td>9.0</td>\n",
       "      <td>1</td>\n",
       "      <td>84</td>\n",
       "      <td>447</td>\n",
       "      <td>18.79</td>\n",
       "    </tr>\n",
       "  </tbody>\n",
       "</table>\n",
       "</div>"
      ],
      "text/plain": [
       "    tutorial_finish_cnt  purchase  purchase_cnt_x  purchase_cnt_y  percent\n",
       "1                   0.0         1             597           12741     4.69\n",
       "3                   1.0         1            5785           34588    16.73\n",
       "5                   2.0         1            1301            8431    15.43\n",
       "7                   3.0         1             422            2984    14.14\n",
       "9                   4.0         1             220            1923    11.44\n",
       "11                  5.0         1             267            1583    16.87\n",
       "13                  6.0         1             245            1555    15.76\n",
       "15                  7.0         1             272            1683    16.16\n",
       "17                  8.0         1             117            1024    11.43\n",
       "19                  9.0         1              84             447    18.79"
      ]
     },
     "execution_count": 52,
     "metadata": {},
     "output_type": "execute_result"
    }
   ],
   "source": [
    "# создаем столбец процентного значения покупок от всех пользователей группы\n",
    "finish_purchase ['percent'] = round(finish_purchase['purchase_cnt_x']/finish_purchase['purchase_cnt_y']*100,2)\n",
    "finish_purchase"
   ]
  },
  {
   "cell_type": "code",
   "execution_count": 53,
   "id": "ac514ed1",
   "metadata": {},
   "outputs": [
    {
     "data": {
      "text/plain": [
       "Text(0.5, 1.0, 'Доля покупок (в %) в зависимости от количества завершений обучения')"
      ]
     },
     "execution_count": 53,
     "metadata": {},
     "output_type": "execute_result"
    },
    {
     "data": {
      "image/png": "[encoded data removed]",
      "text/plain": [
       "<Figure size 1300x400 with 1 Axes>"
      ]
     },
     "metadata": {},
     "output_type": "display_data"
    }
   ],
   "source": [
    "fig = plt.figure(figsize=(13, 4))\n",
    "main_axes = fig.add_axes([0, 0, 1, 1])\n",
    "main_axes.bar(x = finish_purchase.tutorial_finish_cnt, height = finish_purchase.percent, color='green');\n",
    "main_axes.set_ylabel('Доля покупок')\n",
    "main_axes.set_xlabel('Количество завершений обучения')\n",
    "main_axes.set_title('Доля покупок (в %) в зависимости от количества завершений обучения')"
   ]
  },
  {
   "cell_type": "markdown",
   "id": "19632ded",
   "metadata": {},
   "source": [
    "#### Выводы: \n",
    "1. Явной зависимости доли покупок от количества завершений обучения не обнаружено. показатель в среднем равен 15.2% ± 2.47%\n",
    "2. Снижение наблюдается к 4 и 8 завершению обучения\n",
    "3. Также заметна разница между долями в группе с неоконченным обучением и в группе, закончившей обучение хотя бы один раз\n",
    "#### Интересно посмотреть на то, есть ли разница в покупках между группой, начавшей, но не закончившей обучение и закончившей оба этапа"
   ]
  },
  {
   "cell_type": "code",
   "execution_count": 54,
   "id": "589b376e",
   "metadata": {},
   "outputs": [],
   "source": [
    "not_started = joined[joined['tutorial_start_cnt'] == 0]"
   ]
  },
  {
   "cell_type": "code",
   "execution_count": 55,
   "id": "b30b6b4e",
   "metadata": {},
   "outputs": [],
   "source": [
    "start_not_finished = joined[(joined['tutorial_finish_cnt'] == 0)&(joined['tutorial_start_cnt'] != 0)]"
   ]
  },
  {
   "cell_type": "code",
   "execution_count": 56,
   "id": "d56fad96",
   "metadata": {},
   "outputs": [],
   "source": [
    "all_finished = joined[joined['tutorial_finish_cnt'] != 0]"
   ]
  },
  {
   "cell_type": "code",
   "execution_count": 57,
   "id": "a5a09f65",
   "metadata": {},
   "outputs": [
    {
     "name": "stdout",
     "output_type": "stream",
     "text": [
      "абсолютное значение оплат у группы пользователей, не начавшей обучение: 66 оплат\n",
      "относительное значение: 0.8 %\n",
      "абсолютное значение оплат у группы пользователей, начавшей, но не закончившей обучение: 531 оплат\n",
      "относительное значение: 11.8 %\n",
      "абсолютное значение оплат у группы пользователей, закончившей обучение: 8713 оплат\n",
      "относительное значение: 16.07 %\n"
     ]
    }
   ],
   "source": [
    "print(\"абсолютное значение оплат у группы пользователей, не начавшей обучение: {} оплат\".format(not_started.purchase.sum()))\n",
    "print(\"относительное значение: {} %\".format(round(not_started.purchase.sum()/not_started.purchase.count()*100,2)))\n",
    "\n",
    "print(\"абсолютное значение оплат у группы пользователей, начавшей, но не закончившей обучение: {} оплат\".format(start_not_finished.purchase.sum()))\n",
    "print(\"относительное значение: {} %\".format(round(start_not_finished.purchase.sum()/start_not_finished.purchase.count()*100,2)))\n",
    "\n",
    "print(\"абсолютное значение оплат у группы пользователей, закончившей обучение: {} оплат\".format(all_finished.purchase.sum()))\n",
    "print(\"относительное значение: {} %\".format(round(all_finished.purchase.sum()/all_finished.purchase.count()*100,2)))\n",
    "      "
   ]
  },
  {
   "cell_type": "markdown",
   "id": "7157893c",
   "metadata": {},
   "source": [
    "### выводы: \n",
    "1. группа пользователей, не начавшая обучение, реже остальных покупает дополнительные вопросы (конверсия покупок равна всего 0.8% от общего числа пользователей).  \n",
    "2. группа пользователей, начавшая обучение, но не закончившая его, совершает покупки почти на 5% меньше, чем группа завершившая обучение. Показатели конверсии равны 11.8% и 16.7% соответсвенно. "
   ]
  },
  {
   "cell_type": "markdown",
   "id": "811a0b09",
   "metadata": {},
   "source": [
    "# Гипотеза 3\n",
    "## Если пользователь сначала выбирает сложность обучения, то он не будет проходить обучение"
   ]
  },
  {
   "cell_type": "code",
   "execution_count": 58,
   "id": "f74e9cbe",
   "metadata": {},
   "outputs": [],
   "source": [
    "min_time['tutorial_start'] = pd.to_datetime(min_time['tutorial_start'], errors='coerce')\n",
    "min_time['level_choice'] = pd.to_datetime(min_time['level_choice'], errors='coerce')"
   ]
  },
  {
   "cell_type": "code",
   "execution_count": 59,
   "id": "a14b1591",
   "metadata": {},
   "outputs": [],
   "source": [
    "min_time['timedelta_start_lvlch'] = min_time['tutorial_start'] - min_time['level_choice']"
   ]
  },
  {
   "cell_type": "code",
   "execution_count": 60,
   "id": "a7cb1fae",
   "metadata": {},
   "outputs": [
    {
     "data": {
      "text/html": [
       "<div>\n",
       "<style scoped>\n",
       "    .dataframe tbody tr th:only-of-type {\n",
       "        vertical-align: middle;\n",
       "    }\n",
       "\n",
       "    .dataframe tbody tr th {\n",
       "        vertical-align: top;\n",
       "    }\n",
       "\n",
       "    .dataframe thead th {\n",
       "        text-align: right;\n",
       "    }\n",
       "</style>\n",
       "<table border=\"1\" class=\"dataframe\">\n",
       "  <thead>\n",
       "    <tr style=\"text-align: right;\">\n",
       "      <th></th>\n",
       "      <th>user_id</th>\n",
       "      <th>registration</th>\n",
       "      <th>tutorial_start</th>\n",
       "      <th>tutorial_finish</th>\n",
       "      <th>level_choice</th>\n",
       "      <th>pack_choice</th>\n",
       "      <th>purchase_id</th>\n",
       "      <th>purchase_dt</th>\n",
       "      <th>amount</th>\n",
       "      <th>timedelta_level_choice</th>\n",
       "      <th>timedelta_pack_choice</th>\n",
       "      <th>tutorial_completed</th>\n",
       "      <th>tutorial_started</th>\n",
       "      <th>purchase</th>\n",
       "      <th>timedelta_start_lvlch</th>\n",
       "    </tr>\n",
       "  </thead>\n",
       "  <tbody>\n",
       "  </tbody>\n",
       "</table>\n",
       "</div>"
      ],
      "text/plain": [
       "Empty DataFrame\n",
       "Columns: [user_id, registration, tutorial_start, tutorial_finish, level_choice, pack_choice, purchase_id, purchase_dt, amount, timedelta_level_choice, timedelta_pack_choice, tutorial_completed, tutorial_started, purchase, timedelta_start_lvlch]\n",
       "Index: []"
      ]
     },
     "execution_count": 60,
     "metadata": {},
     "output_type": "execute_result"
    }
   ],
   "source": [
    "min_time[min_time['level_choice']< min_time['tutorial_start']]"
   ]
  },
  {
   "cell_type": "code",
   "execution_count": 61,
   "id": "d5447b9f",
   "metadata": {},
   "outputs": [
    {
     "data": {
      "text/html": [
       "<div>\n",
       "<style scoped>\n",
       "    .dataframe tbody tr th:only-of-type {\n",
       "        vertical-align: middle;\n",
       "    }\n",
       "\n",
       "    .dataframe tbody tr th {\n",
       "        vertical-align: top;\n",
       "    }\n",
       "\n",
       "    .dataframe thead th {\n",
       "        text-align: right;\n",
       "    }\n",
       "</style>\n",
       "<table border=\"1\" class=\"dataframe\">\n",
       "  <thead>\n",
       "    <tr style=\"text-align: right;\">\n",
       "      <th></th>\n",
       "      <th>user_id</th>\n",
       "      <th>registration</th>\n",
       "      <th>tutorial_start</th>\n",
       "      <th>tutorial_finish</th>\n",
       "      <th>level_choice</th>\n",
       "      <th>pack_choice</th>\n",
       "      <th>purchase_id</th>\n",
       "      <th>purchase_dt</th>\n",
       "      <th>amount</th>\n",
       "      <th>timedelta_level_choice</th>\n",
       "      <th>timedelta_pack_choice</th>\n",
       "      <th>tutorial_completed</th>\n",
       "      <th>tutorial_started</th>\n",
       "      <th>purchase</th>\n",
       "      <th>timedelta_start_lvlch</th>\n",
       "    </tr>\n",
       "  </thead>\n",
       "  <tbody>\n",
       "  </tbody>\n",
       "</table>\n",
       "</div>"
      ],
      "text/plain": [
       "Empty DataFrame\n",
       "Columns: [user_id, registration, tutorial_start, tutorial_finish, level_choice, pack_choice, purchase_id, purchase_dt, amount, timedelta_level_choice, timedelta_pack_choice, tutorial_completed, tutorial_started, purchase, timedelta_start_lvlch]\n",
       "Index: []"
      ]
     },
     "execution_count": 61,
     "metadata": {},
     "output_type": "execute_result"
    }
   ],
   "source": [
    "min_time[min_time['timedelta_start_lvlch'] > pd.Timedelta(0)]"
   ]
  },
  {
   "cell_type": "markdown",
   "id": "dd8f9de7",
   "metadata": {},
   "source": [
    "#### Вывод:  \n",
    "1. Не найдено пользователей, вернувшихся к обучению после выбора уровня сложности, что свидетельствует о прозрачности взаимодействия с игрой. \n"
   ]
  },
  {
   "cell_type": "markdown",
   "id": "86ff063d",
   "metadata": {},
   "source": [
    "### Выводы\n",
    "#### Гипотеза 1 (Oбучение влияет на скорость прохождения других этапов игры)\n",
    "Результат: для этапа \"Выбор уровня\" - нет. Для \"Выбор пакетов\" - да. \n",
    "1. Разница между группами с завершенным обучением, без обчения и с начатым, но не завершенным обучением на этапе \"Выбор уровня\" минимальна. На 15 мин быстрее переходит к следующему этапу группа, начавшая обучение, но не завершившая его. Разницы между группами без обучения и с обучением практически нет (разница 5 мин в среднем). \n",
    "\n",
    "2. Разница между тремя группами на этапе \"Выбор пакетов\" есть. Пользователи, которые завершили обучение, быстрее всех проходят этап и приступают к оплате (3 дня, 17 часов). В среднем на пол часа медленнее (3 дня, 21 час) к оплате переходят пользователи, начинавшие, но не закочившие обучение. Самой поздней в оплатах является группа, состоящая из пользователей, которые не начали обучение, - в среднем 4 дня, 4 часа.\n",
    "\n",
    "#### Гипотеза 2 (Повторное прохождение обучения положительно влияет на оплату)\n",
    "Результат: нет, влияет только факт прохождения обучения, не важно количество прохождений. \n",
    "1. Обнаружена разница между количеством оплат у группы, начавшей обучение только 1 раз (конверсия 16.2%), и группы, начавшей обучение более 1 раза (конверсия 14.9%). Первая в процентном соотношении имеет оплат на 1.3% больше, чем группа с повторными старатами обучения.\n",
    "2. Схожая картина наблюлается и в группах с разным количеством завершений обучения. Так, в группе с единственным завершением наблюдается процент оплат равняется 16.7%, а в группе с повторными завершениями обучения - 14.9%.\n",
    "3. Зависимость доли оплат от количества начал/окончаний обучения не обнаружена, показатель в среднем равен 14.9% ± 2.37% для начал обучения и 15.2% ± 2.47% для завершений. \n",
    "4. Отстувие обучения приводит к значительно меньшим покупах: на 14% меньше, чем в группах как минимум с одним началом обучения, и на 10% меньше, чем в группах, закончивших обучение хотя бы один раз.\n",
    "\n",
    "#### Гипотеза 3 (Если пользователь сначала выбирает сложность обучения, то он не будет проходить обучение)\n",
    "Результат: да, пользователи не возвращаются к обучению после выбора уровня сложности. \n",
    "1. Не найдено пользователей, вернувшихся к обучению после выбора уровня сложности, что свидетельствует о прозрачности взаимодействия с игрой. "
   ]
  }
 ],
 "metadata": {
  "kernelspec": {
   "display_name": "Python 3 (ipykernel)",
   "language": "python",
   "name": "python3"
  },
  "language_info": {
   "codemirror_mode": {
    "name": "ipython",
    "version": 3
   },
   "file_extension": ".py",
   "mimetype": "text/x-python",
   "name": "python",
   "nbconvert_exporter": "python",
   "pygments_lexer": "ipython3",
   "version": "3.10.10"
  }
 },
 "nbformat": 4,
 "nbformat_minor": 5
}
